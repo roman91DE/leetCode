{
 "cells": [
  {
   "cell_type": "code",
   "execution_count": 36,
   "id": "330cd029",
   "metadata": {},
   "outputs": [],
   "source": [
    "def rob(nums: list[int]) -> int:\n",
    "\n",
    "    sols = []\n",
    "\n",
    "    def loot(indices: list[int]) -> int:\n",
    "        return sum([loot for idx, loot in enumerate(nums) if idx in indices])\n",
    "    \n",
    "    \n",
    "        \n",
    "\n",
    "    sols = [[i] for i in range(len(nums))]\n",
    "\n",
    "    sols.sort(key= lambda x: loot(x), reverse=True)\n",
    "    print(sols)\n",
    "    return loot(sols[0])\n",
    "\n",
    "    \n",
    "        "
   ]
  },
  {
   "cell_type": "code",
   "execution_count": 43,
   "id": "767c6eda",
   "metadata": {},
   "outputs": [
    {
     "data": {
      "text/plain": [
       "42"
      ]
     },
     "execution_count": 43,
     "metadata": {},
     "output_type": "execute_result"
    }
   ],
   "source": [
    "def rob(nums: list[int]) -> int:\n",
    "\n",
    "    n = len(nums)\n",
    "    rest = [None for _ in range(n-1)]\n",
    "    solutions = []\n",
    "\n",
    "    def fillFalse(s: list[bool|None]) -> list[bool|None]:\n",
    "        sn = s\n",
    "        for i,p in enumerate(s):\n",
    "            if p:\n",
    "                sn[i+1] = False\n",
    "        return sn\n",
    "    \n",
    "    def expandSol(s: list[bool|None]) -> list[list[bool|None]]:\n",
    "        return [s]\n",
    "    \n",
    "    def scoreSol(s: list[bool|None]) -> int:\n",
    "        return 42\n",
    "    \n",
    "    sol1 = fillFalse([True] + rest)\n",
    "    sol2 = fillFalse([False] + rest)\n",
    "\n",
    "    for sol in [sol1, sol2]:\n",
    "        if not None in sol:\n",
    "            solutions.append(sol)\n",
    "        else:\n",
    "            newSols = expandSol(sol)\n",
    "            for newSol in newSols:\n",
    "                solutions.append(newSol)\n",
    "\n",
    "\n",
    "    solutions.sort(key = lambda x: scoreSol(x), reverse=True)\n",
    "    return scoreSol(solutions[0])\n",
    "\n",
    "\n",
    "\n",
    "\n",
    "\n",
    "rob([1,2,3,1])"
   ]
  },
  {
   "cell_type": "code",
   "execution_count": 37,
   "id": "0ccf0537",
   "metadata": {},
   "outputs": [
    {
     "name": "stdout",
     "output_type": "stream",
     "text": [
      "[[2], [1], [0], [3]]\n"
     ]
    },
    {
     "data": {
      "text/plain": [
       "3"
      ]
     },
     "execution_count": 37,
     "metadata": {},
     "output_type": "execute_result"
    }
   ],
   "source": [
    "rob([1,2,3,1])"
   ]
  },
  {
   "cell_type": "code",
   "execution_count": 38,
   "id": "f68aaaff",
   "metadata": {},
   "outputs": [
    {
     "data": {
      "text/plain": [
       "[12]"
      ]
     },
     "execution_count": 38,
     "metadata": {},
     "output_type": "execute_result"
    }
   ],
   "source": [
    "s = set(); s.add(12); s\n",
    "\n",
    "list(s)"
   ]
  }
 ],
 "metadata": {
  "kernelspec": {
   "display_name": "leetCode (3.14.0)",
   "language": "python",
   "name": "python3"
  },
  "language_info": {
   "codemirror_mode": {
    "name": "ipython",
    "version": 3
   },
   "file_extension": ".py",
   "mimetype": "text/x-python",
   "name": "python",
   "nbconvert_exporter": "python",
   "pygments_lexer": "ipython3",
   "version": "3.14.0a6"
  }
 },
 "nbformat": 4,
 "nbformat_minor": 5
}
