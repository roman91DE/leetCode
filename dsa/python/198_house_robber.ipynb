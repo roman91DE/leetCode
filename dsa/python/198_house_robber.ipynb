{
 "cells": [
  {
   "cell_type": "code",
   "execution_count": 91,
   "id": "767c6eda",
   "metadata": {},
   "outputs": [
    {
     "data": {
      "text/plain": [
       "4"
      ]
     },
     "execution_count": 91,
     "metadata": {},
     "output_type": "execute_result"
    }
   ],
   "source": [
    "from copy import deepcopy\n",
    "\n",
    "\n",
    "def solve(nums: list[int]) -> int:\n",
    "    n = len(nums)\n",
    "    rest = [None for _ in range(n - 1)]\n",
    "    solutions = []\n",
    "\n",
    "    def fillFalse(s: list[bool | None]) -> list[bool | None]:\n",
    "        sn = deepcopy(s)\n",
    "        for i, p in enumerate(s):\n",
    "            if p and i < len(s) - 1:\n",
    "                sn[i + 1] = False\n",
    "        return sn\n",
    "\n",
    "    def expandSol(s: list[bool | None]) -> list[list[bool | None]]:\n",
    "        first_none = next((i for i, x in enumerate(s) if x is None), None)\n",
    "        if first_none is None:\n",
    "            return [s]\n",
    "\n",
    "        pool = []\n",
    "        i = first_none\n",
    "\n",
    "        new_false = deepcopy(s)\n",
    "        new_false[i] = False\n",
    "        pool.extend(expandSol(new_false))\n",
    "\n",
    "        if i == 0 or s[i - 1] is not True:\n",
    "            new_true = deepcopy(s)\n",
    "            new_true[i] = True\n",
    "            new_true = fillFalse(new_true)\n",
    "            pool.extend(expandSol(new_true))\n",
    "\n",
    "        return pool\n",
    "\n",
    "    def scoreSol(s: list[bool | None]) -> int:\n",
    "        score = 0\n",
    "        for sc, taken in zip(nums, s):\n",
    "            if taken:\n",
    "                score += sc\n",
    "        return score\n",
    "\n",
    "    sol1 = fillFalse([True] + rest)\n",
    "    sol2 = fillFalse([False] + rest)\n",
    "\n",
    "    for sol in [sol1, sol2]:\n",
    "        if None not in sol:\n",
    "            solutions.append(sol)\n",
    "        else:\n",
    "            newSols = expandSol(sol)\n",
    "            for newSol in newSols:\n",
    "                solutions.append(newSol)\n",
    "\n",
    "    solutions.sort(key=lambda x: scoreSol(x), reverse=True)\n",
    "    return scoreSol(solutions[0])\n",
    "\n",
    "\n",
    "solve([1, 2, 3, 1])"
   ]
  },
  {
   "cell_type": "code",
   "execution_count": 93,
   "id": "f68aaaff",
   "metadata": {},
   "outputs": [
    {
     "name": "stdout",
     "output_type": "stream",
     "text": [
      "3\n",
      "2\n",
      "1\n"
     ]
    }
   ],
   "source": [
    "def dsolve(nums: list[int]) -> int:\n",
    "    for i in range(len(nums), 0, -1):\n",
    "        print(i)\n",
    "\n",
    "\n",
    "dsolve([1, 2, 3])"
   ]
  }
 ],
 "metadata": {
  "kernelspec": {
   "display_name": "leetCode (3.14.0)",
   "language": "python",
   "name": "python3"
  },
  "language_info": {
   "codemirror_mode": {
    "name": "ipython",
    "version": 3
   },
   "file_extension": ".py",
   "mimetype": "text/x-python",
   "name": "python",
   "nbconvert_exporter": "python",
   "pygments_lexer": "ipython3",
   "version": "3.14.0a6"
  }
 },
 "nbformat": 4,
 "nbformat_minor": 5
}
