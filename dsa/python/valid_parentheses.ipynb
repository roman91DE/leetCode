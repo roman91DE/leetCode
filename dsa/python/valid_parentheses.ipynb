{
 "cells": [
  {
   "cell_type": "code",
   "execution_count": 96,
   "id": "78e8afee",
   "metadata": {},
   "outputs": [],
   "source": [
    "def f_rec(s: str) -> bool:\n",
    "    pairs = {\"(\": \")\", \"[\": \"]\", \"{\": \"}\"}\n",
    "\n",
    "    def inner(s: list[str]) -> bool:\n",
    "        match s:\n",
    "            case []:\n",
    "                return True\n",
    "            case [fst, scnd] if fst in \"([{\":\n",
    "                return pairs[fst] == scnd\n",
    "            case [x, *xs] if x in \"([{\":\n",
    "                need = pairs[x]\n",
    "                if not need in xs:\n",
    "                    return False\n",
    "                idx = xs.index(need)\n",
    "                if idx == 0:\n",
    "                    return inner(xs[1:])\n",
    "                if inner(xs[:idx]):\n",
    "                    return inner(xs[idx + 1 :])\n",
    "                return False\n",
    "            case _:\n",
    "                return False\n",
    "\n",
    "    return inner(list(s))"
   ]
  },
  {
   "cell_type": "code",
   "execution_count": 97,
   "id": "b70eb040",
   "metadata": {},
   "outputs": [
    {
     "data": {
      "text/plain": [
       "True"
      ]
     },
     "execution_count": 97,
     "metadata": {},
     "output_type": "execute_result"
    }
   ],
   "source": [
    "f_rec(\"()[]\")"
   ]
  },
  {
   "cell_type": "code",
   "execution_count": 98,
   "id": "2a47bd91",
   "metadata": {},
   "outputs": [
    {
     "data": {
      "text/plain": [
       "False"
      ]
     },
     "execution_count": 98,
     "metadata": {},
     "output_type": "execute_result"
    }
   ],
   "source": [
    "f_rec(\"([]){\")"
   ]
  },
  {
   "cell_type": "code",
   "execution_count": 99,
   "id": "946af38b",
   "metadata": {},
   "outputs": [
    {
     "name": "stdout",
     "output_type": "stream",
     "text": [
      "f_rec('([])'): True\n"
     ]
    }
   ],
   "source": [
    "result = f_rec(\"([])\")\n",
    "print(f\"f_rec('([])'): {result}\")"
   ]
  }
 ],
 "metadata": {
  "kernelspec": {
   "display_name": "leetCode (3.14.0)",
   "language": "python",
   "name": "python3"
  },
  "language_info": {
   "codemirror_mode": {
    "name": "ipython",
    "version": 3
   },
   "file_extension": ".py",
   "mimetype": "text/x-python",
   "name": "python",
   "nbconvert_exporter": "python",
   "pygments_lexer": "ipython3",
   "version": "3.14.0a6"
  }
 },
 "nbformat": 4,
 "nbformat_minor": 5
}
