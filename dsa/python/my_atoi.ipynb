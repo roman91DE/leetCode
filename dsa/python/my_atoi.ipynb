{
 "cells": [
  {
   "cell_type": "code",
   "execution_count": 254,
   "id": "d217b763",
   "metadata": {},
   "outputs": [],
   "source": [
    "class Solution:\n",
    "    def myAtoi(self, s: str) -> int:\n",
    "        return atoi(s)"
   ]
  },
  {
   "cell_type": "markdown",
   "id": "405fb014",
   "metadata": {},
   "source": [
    "Implement the myAtoi(string s) function, which converts a string to a 32-bit signed integer.\n",
    "\n",
    "The algorithm for myAtoi(string s) is as follows:\n",
    "\n",
    "+ Whitespace: Ignore any leading whitespace (\" \").\n",
    "+  Signedness: Determine the sign by checking if the next character is '-' or '+', assuming positivity if neither present.\n",
    "+ Conversion: Read the integer by skipping leading zeros until a non-digit character is encountered or the end of the string is reached. If no digits were read, then the result is 0.\n",
    "+ Rounding: If the integer is out of the 32-bit signed integer range [-231, 231 - 1], then round the integer to remain in the range. Specifically, integers less than -231 should be rounded to -231, and integers greater than 231 - 1 should be rounded to 231 - 1.\n",
    "+ Return the integer as the final result.\n"
   ]
  },
  {
   "cell_type": "code",
   "execution_count": null,
   "id": "7f419402",
   "metadata": {},
   "outputs": [],
   "source": []
  },
  {
   "cell_type": "code",
   "execution_count": 255,
   "id": "ab5b86e3",
   "metadata": {},
   "outputs": [],
   "source": [
    "from string import digits\n",
    "from functools import partial\n",
    "from typing import Callable\n",
    "\n",
    "\n",
    "def atoi(s: str) -> int:\n",
    "    # Step 1: Remove leading whitespace\n",
    "    s = s.strip()\n",
    "    \n",
    "    if not s:\n",
    "        return 0\n",
    "    \n",
    "    # Step 2: Check for sign\n",
    "    sign = 1\n",
    "    i = 0\n",
    "    \n",
    "    if s[0] == '+':\n",
    "        i = 1\n",
    "    elif s[0] == '-':\n",
    "        sign = -1\n",
    "        i = 1\n",
    "    \n",
    "    # Step 3: Convert digits\n",
    "    result = 0\n",
    "    \n",
    "    while i < len(s) and s[i].isdigit():\n",
    "        digit = int(s[i])\n",
    "        \n",
    "        # Check for overflow before adding the digit\n",
    "        # 32-bit signed integer range: [-2^31, 2^31 - 1]\n",
    "        INT_MAX = 2**31 - 1\n",
    "        INT_MIN = -2**31\n",
    "        \n",
    "        # Check if adding this digit would cause overflow\n",
    "        if result > INT_MAX // 10 or (result == INT_MAX // 10 and digit > INT_MAX % 10):\n",
    "            return INT_MAX if sign == 1 else INT_MIN\n",
    "            \n",
    "        result = result * 10 + digit\n",
    "        i += 1\n",
    "    \n",
    "    return sign * result"
   ]
  },
  {
   "cell_type": "code",
   "execution_count": 256,
   "id": "feb34865",
   "metadata": {},
   "outputs": [],
   "source": [
    "assert atoi(\"0-1\") == 0"
   ]
  },
  {
   "cell_type": "code",
   "execution_count": 257,
   "id": "7a452902",
   "metadata": {},
   "outputs": [],
   "source": [
    "assert atoi(\" 42\") == 42"
   ]
  },
  {
   "cell_type": "code",
   "execution_count": 258,
   "id": "fc7fd09e",
   "metadata": {},
   "outputs": [],
   "source": [
    "assert atoi(\" 00042\") == 42"
   ]
  },
  {
   "cell_type": "code",
   "execution_count": 259,
   "id": "a121bc2b",
   "metadata": {},
   "outputs": [],
   "source": [
    "assert atoi(\"0\") == 0"
   ]
  }
 ],
 "metadata": {
  "kernelspec": {
   "display_name": "leetCode (3.14.0)",
   "language": "python",
   "name": "python3"
  },
  "language_info": {
   "codemirror_mode": {
    "name": "ipython",
    "version": 3
   },
   "file_extension": ".py",
   "mimetype": "text/x-python",
   "name": "python",
   "nbconvert_exporter": "python",
   "pygments_lexer": "ipython3",
   "version": "3.14.0a6"
  }
 },
 "nbformat": 4,
 "nbformat_minor": 5
}
