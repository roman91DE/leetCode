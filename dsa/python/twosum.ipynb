{
 "cells": [
  {
   "cell_type": "code",
   "execution_count": 8,
   "id": "2daad6c4",
   "metadata": {},
   "outputs": [],
   "source": [
    "from typing import List\n",
    "\n",
    "\n",
    "class Solution:\n",
    "    def twoSum(self, nums: List[int], target: int) -> List[int]:\n",
    "        return _twosum(nums, target)\n",
    "        \n",
    "\n",
    "def _twosum(nums: List[int], target: int) -> List[int]:\n",
    "    paired = sorted(((v, i) for i, v in enumerate(nums)), key=lambda x: x[0])\n",
    "    lo, hi = 0, len(paired) - 1\n",
    "    while lo < hi:\n",
    "        s = paired[lo][0] + paired[hi][0]\n",
    "        if s == target:\n",
    "            return [paired[lo][1], paired[hi][1]]\n",
    "        if s < target:\n",
    "            lo += 1\n",
    "        else:\n",
    "            hi -= 1\n",
    "    raise ValueError(\"No two sum solution\")\n"
   ]
  },
  {
   "cell_type": "code",
   "execution_count": 9,
   "id": "1978ce65",
   "metadata": {},
   "outputs": [
    {
     "data": {
      "text/plain": [
       "[0, 1]"
      ]
     },
     "execution_count": 9,
     "metadata": {},
     "output_type": "execute_result"
    }
   ],
   "source": [
    "_twosum([3,3], 6)"
   ]
  },
  {
   "cell_type": "code",
   "execution_count": 10,
   "id": "2993fa63",
   "metadata": {},
   "outputs": [
    {
     "name": "stdout",
     "output_type": "stream",
     "text": [
      "[32, 55, 60, 95, 22, 55, 67, 75, 33, 78, 93, 24, 28, 81, 41, 54, 37, 3, 4, 51]\n"
     ]
    },
    {
     "data": {
      "text/plain": [
       "[4, 12]"
      ]
     },
     "execution_count": 10,
     "metadata": {},
     "output_type": "execute_result"
    }
   ],
   "source": [
    "from random import randint\n",
    "\n",
    "ttarget = 50\n",
    "tlist = [randint(1, 100) for _ in range(20)]\n",
    "print(tlist)\n",
    "_twosum(tlist, ttarget)"
   ]
  },
  {
   "cell_type": "code",
   "execution_count": null,
   "id": "c7a7f9f2",
   "metadata": {},
   "outputs": [],
   "source": []
  }
 ],
 "metadata": {
  "kernelspec": {
   "display_name": "leetCode (3.14.0)",
   "language": "python",
   "name": "python3"
  },
  "language_info": {
   "codemirror_mode": {
    "name": "ipython",
    "version": 3
   },
   "file_extension": ".py",
   "mimetype": "text/x-python",
   "name": "python",
   "nbconvert_exporter": "python",
   "pygments_lexer": "ipython3",
   "version": "3.14.0a6"
  }
 },
 "nbformat": 4,
 "nbformat_minor": 5
}
