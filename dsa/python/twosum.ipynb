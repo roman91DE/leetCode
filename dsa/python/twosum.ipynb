{
 "cells": [
  {
   "cell_type": "code",
   "execution_count": null,
   "id": "2daad6c4",
   "metadata": {},
   "outputs": [],
   "source": [
    "from typing import List\n",
    "\n",
    "\n",
    "class Solution:\n",
    "    def twoSum(self, nums: List[int], target: int) -> List[int]:\n",
    "        return twosum3(nums, target)\n",
    "    \n",
    "def twosum3(nums: List[int], target: int) -> List[int]:\n",
    "    mem = {}\n",
    "    for idx, num in enumerate(nums):\n",
    "        need = target-num\n",
    "        if need in mem:\n",
    "            return [idx, mem[need]]\n",
    "        mem[num] = idx\n",
    "    raise RuntimeError\n",
    "        \n",
    "\n",
    "def twosum2(nums: List[int], target: int) -> List[int]:\n",
    "    mem = {}\n",
    "    for idx, num in enumerate(nums):\n",
    "        for n, i in mem.items():\n",
    "            if num + n == target:\n",
    "                return [idx, i]\n",
    "        mem[num] = idx\n",
    "    raise RuntimeError\n",
    "\n",
    "def twosum1(nums: List[int], target: int) -> List[int]:\n",
    "    paired = sorted(((v, i) for i, v in enumerate(nums)), key=lambda x: x[0])\n",
    "    lo, hi = 0, len(paired) - 1\n",
    "    while lo < hi:\n",
    "        s = paired[lo][0] + paired[hi][0]\n",
    "        if s == target:\n",
    "            return [paired[lo][1], paired[hi][1]]\n",
    "        if s < target:\n",
    "            lo += 1\n",
    "        else:\n",
    "            hi -= 1\n",
    "    raise ValueError(\"No two sum solution\")\n",
    "\n",
    "\n",
    "\n",
    "    "
   ]
  }
 ],
 "metadata": {
  "kernelspec": {
   "display_name": "leetCode (3.14.0)",
   "language": "python",
   "name": "python3"
  },
  "language_info": {
   "codemirror_mode": {
    "name": "ipython",
    "version": 3
   },
   "file_extension": ".py",
   "mimetype": "text/x-python",
   "name": "python",
   "nbconvert_exporter": "python",
   "pygments_lexer": "ipython3",
   "version": "3.14.0"
  }
 },
 "nbformat": 4,
 "nbformat_minor": 5
}
