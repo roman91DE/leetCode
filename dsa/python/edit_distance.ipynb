{
 "cells": [
  {
   "cell_type": "code",
   "execution_count": 40,
   "id": "e0081193",
   "metadata": {},
   "outputs": [],
   "source": [
    "def longest_common_substring(s1: str, s2: str) -> str:\n",
    "    if len(s2) == 0:\n",
    "        return \"\"\n",
    "    for i in range(len(s2), 0, -1):\n",
    "        if s2[:i] in s1:\n",
    "            return s2[:i]\n",
    "    return \"\""
   ]
  },
  {
   "cell_type": "code",
   "execution_count": null,
   "id": "f35c3db3",
   "metadata": {},
   "outputs": [],
   "source": [
    "def ed(word1: str, word2: str) -> int:\n",
    "    w1_len, w2_len = len(word1), len(word2)\n",
    "\n",
    "    return 1"
   ]
  },
  {
   "cell_type": "code",
   "execution_count": 44,
   "id": "de5f933a",
   "metadata": {},
   "outputs": [
    {
     "data": {
      "text/plain": [
       "'or'"
      ]
     },
     "execution_count": 44,
     "metadata": {},
     "output_type": "execute_result"
    }
   ],
   "source": [
    "longest_common_substring(\"hello, world!\", \"ordl\")"
   ]
  },
  {
   "cell_type": "code",
   "execution_count": null,
   "id": "893a3caa",
   "metadata": {},
   "outputs": [],
   "source": []
  },
  {
   "cell_type": "code",
   "execution_count": 42,
   "id": "6f23a066",
   "metadata": {},
   "outputs": [],
   "source": [
    "class Solution:\n",
    "    def minDistance(self, word1: str, word2: str) -> int:\n",
    "        return ed(w1, w2)"
   ]
  },
  {
   "cell_type": "code",
   "execution_count": null,
   "id": "89b7820b",
   "metadata": {},
   "outputs": [],
   "source": []
  },
  {
   "cell_type": "code",
   "execution_count": null,
   "id": "d3682874",
   "metadata": {},
   "outputs": [],
   "source": []
  }
 ],
 "metadata": {
  "kernelspec": {
   "display_name": "leetCode (3.14.0)",
   "language": "python",
   "name": "python3"
  },
  "language_info": {
   "codemirror_mode": {
    "name": "ipython",
    "version": 3
   },
   "file_extension": ".py",
   "mimetype": "text/x-python",
   "name": "python",
   "nbconvert_exporter": "python",
   "pygments_lexer": "ipython3",
   "version": "3.14.0a6"
  }
 },
 "nbformat": 4,
 "nbformat_minor": 5
}
