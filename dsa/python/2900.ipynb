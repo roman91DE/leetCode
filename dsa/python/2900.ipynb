{
 "cells": [
  {
   "cell_type": "code",
   "execution_count": null,
   "id": "89b7820b",
   "metadata": {},
   "outputs": [],
   "source": [
    "from typing import List, Tuple\n",
    "\n",
    "\n",
    "def solve(words: List[str], groups: List[int]) -> List[str]:\n",
    "    mem = []\n",
    "\n",
    "    def inner(groups: List[int], words: List[str], seed: bool) -> List[str]:\n",
    "        pairs: List[Tuple[bool, str]] = []\n",
    "\n",
    "        for a, b in zip(groups, words):\n",
    "            pairs.append((a == 1, b))\n",
    "\n",
    "        sol = []\n",
    "        need = seed\n",
    "\n",
    "        while need in map(lambda p: p[0], pairs):\n",
    "            for idx, pair in enumerate(pairs):\n",
    "                if pair[0] == need:\n",
    "                    sol.append(pair[1])\n",
    "                    pairs = pairs[idx + 1 :]\n",
    "                    need = not need\n",
    "                    break\n",
    "\n",
    "        return sol\n",
    "\n",
    "    for i in range(len(groups)):\n",
    "        subgroup = groups[i:]\n",
    "        subwords = words[i:]\n",
    "\n",
    "        mem.append(inner(subgroup, subwords, True))\n",
    "        mem.append(inner(subgroup, subwords, False))\n",
    "\n",
    "    mem.sort(key=lambda w: len(w), reverse=True)\n",
    "    return mem[0]"
   ]
  },
  {
   "cell_type": "code",
   "execution_count": null,
   "id": "893a3caa",
   "metadata": {},
   "outputs": [],
   "source": [
    "class Solution:\n",
    "    def getLongestSubsequence(self, words: List[str], groups: List[int]) -> List[str]:\n",
    "        return solve(words, groups)"
   ]
  },
  {
   "cell_type": "code",
   "execution_count": 3,
   "id": "d3682874",
   "metadata": {},
   "outputs": [
    {
     "data": {
      "text/plain": [
       "['e', 'b']"
      ]
     },
     "execution_count": 3,
     "metadata": {},
     "output_type": "execute_result"
    }
   ],
   "source": [
    "words = [\"e\", \"a\", \"b\"]\n",
    "groups = [0, 0, 1]\n",
    "solve(words, groups)"
   ]
  }
 ],
 "metadata": {
  "kernelspec": {
   "display_name": "leetCode (3.14.0)",
   "language": "python",
   "name": "python3"
  },
  "language_info": {
   "codemirror_mode": {
    "name": "ipython",
    "version": 3
   },
   "file_extension": ".py",
   "mimetype": "text/x-python",
   "name": "python",
   "nbconvert_exporter": "python",
   "pygments_lexer": "ipython3",
   "version": "3.14.0a6"
  }
 },
 "nbformat": 4,
 "nbformat_minor": 5
}
