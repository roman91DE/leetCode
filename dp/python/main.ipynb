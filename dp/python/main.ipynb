{
 "cells": [
  {
   "cell_type": "code",
   "execution_count": 6,
   "id": "82261076",
   "metadata": {},
   "outputs": [],
   "source": [
    "\"\"\"\n",
    "70. Climbing Stairs\n",
    "\n",
    "You are climbing a staircase. It takes n steps to reach the top.\n",
    "\n",
    "Each time you can either climb 1 or 2 steps. In how many distinct ways can you climb to the top?\n",
    "\n",
    "\"\"\"\n",
    "\n",
    "\n",
    "def climbing_stairs(n: int) -> int:\n",
    "    mem = {0: 0, 1: 1, 2: 2}\n",
    "\n",
    "    def recurse(x: int) -> int:\n",
    "        if x in mem:\n",
    "            return mem[x]\n",
    "        temp = recurse(x - 1) + recurse(x - 2)\n",
    "        mem[x] = temp\n",
    "        return temp\n",
    "\n",
    "    return recurse(n)\n",
    "\n",
    "\n",
    "assert climbing_stairs(2) == 2\n",
    "assert climbing_stairs(3) == 3"
   ]
  },
  {
   "cell_type": "code",
   "execution_count": 9,
   "id": "52862b4d",
   "metadata": {},
   "outputs": [],
   "source": [
    "\"\"\"\n",
    "118. Pascal's Triangle\n",
    "\n",
    "Given an integer numRows, return the first numRows of Pascal's triangle.\n",
    "\n",
    "In Pascal's triangle, each number is the sum of the two numbers directly above it as shown:\n",
    "\"\"\"\n",
    "\n",
    "\n",
    "def pascals_triangle(n: int) -> list[list[int]]:\n",
    "    mem = {1: [1], 2: [1, 1]}\n",
    "\n",
    "    def f(j: int) -> list[int]:\n",
    "        prev = mem[j - 1]\n",
    "        res = [1]\n",
    "\n",
    "        for a, b in zip(prev, prev[1:]):\n",
    "            res.append(a + b)\n",
    "        res.append(1)\n",
    "\n",
    "        return res\n",
    "\n",
    "    for i in range(3, n + 1, 1):\n",
    "        mem[i] = f(i)\n",
    "\n",
    "    return [mem[k] for k in range(1, n + 1)]\n",
    "\n",
    "\n",
    "assert pascals_triangle(5) == [[1], [1, 1], [1, 2, 1], [1, 3, 3, 1], [1, 4, 6, 4, 1]]\n",
    "assert pascals_triangle(1) == [[1]]"
   ]
  },
  {
   "cell_type": "code",
   "execution_count": null,
   "id": "5bb085b5",
   "metadata": {},
   "outputs": [],
   "source": []
  },
  {
   "cell_type": "code",
   "execution_count": null,
   "id": "88608e50",
   "metadata": {},
   "outputs": [],
   "source": []
  },
  {
   "cell_type": "code",
   "execution_count": null,
   "id": "190e81b3",
   "metadata": {},
   "outputs": [],
   "source": []
  }
 ],
 "metadata": {
  "kernelspec": {
   "display_name": "leetCode (3.14.0)",
   "language": "python",
   "name": "python3"
  },
  "language_info": {
   "codemirror_mode": {
    "name": "ipython",
    "version": 3
   },
   "file_extension": ".py",
   "mimetype": "text/x-python",
   "name": "python",
   "nbconvert_exporter": "python",
   "pygments_lexer": "ipython3",
   "version": "3.14.0a6"
  }
 },
 "nbformat": 4,
 "nbformat_minor": 5
}
