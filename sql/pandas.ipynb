{
 "cells": [
  {
   "cell_type": "code",
   "execution_count": 40,
   "id": "eef9f757",
   "metadata": {},
   "outputs": [],
   "source": [
    "import pandas as pd\n",
    "import numpy as np"
   ]
  },
  {
   "cell_type": "code",
   "execution_count": 41,
   "id": "90cd47e8",
   "metadata": {},
   "outputs": [],
   "source": [
    "def second_highest_salary_v1(employee: pd.DataFrame) -> pd.DataFrame:\n",
    "    df = employee.sort_values(by=\"salary\", ascending=False)\n",
    "    df_deduped = df[~df.salary.duplicated(keep=\"first\")]\n",
    "    if len(df_deduped) < 2:\n",
    "        return pd.DataFrame({\"SecondHighestSalary\": [None]})\n",
    "    return (\n",
    "        df_deduped.iloc[1:2]\n",
    "        .rename(columns={\"salary\": \"SecondHighestSalary\"})\n",
    "        .filter(items=[\"SecondHighestSalary\"])\n",
    "    )"
   ]
  },
  {
   "cell_type": "code",
   "execution_count": 42,
   "id": "cad829ec",
   "metadata": {},
   "outputs": [],
   "source": [
    "def second_highest_salary_v2(employee: pd.DataFrame) -> pd.DataFrame:\n",
    "    sals = employee.salary.unique()\n",
    "    ssals = np.sort(sals)\n",
    "    if len(ssals) < 2:\n",
    "        return pd.DataFrame({\"SecondHighestSalary\": [None]})\n",
    "    return pd.DataFrame({\"SecondHighestSalary\": [ssals[-2]]})"
   ]
  },
  {
   "cell_type": "code",
   "execution_count": null,
   "id": "ff3ce800",
   "metadata": {},
   "outputs": [],
   "source": [
    "def second_highest_salary(employee: pd.DataFrame) -> pd.DataFrame:\n",
    "    top2 = employee.salary.drop_duplicates().nlargest(2)\n",
    "    if len(top2) < 2:\n",
    "        return pd.DataFrame({\"SecondHighestSalary\": [None]})\n",
    "    return pd.DataFrame({\"SecondHighestSalary\": [top2.iloc[1]]})"
   ]
  }
 ],
 "metadata": {
  "kernelspec": {
   "display_name": "ipythonVenv (3.13.7)",
   "language": "python",
   "name": "python3"
  },
  "language_info": {
   "codemirror_mode": {
    "name": "ipython",
    "version": 3
   },
   "file_extension": ".py",
   "mimetype": "text/x-python",
   "name": "python",
   "nbconvert_exporter": "python",
   "pygments_lexer": "ipython3",
   "version": "3.13.7"
  }
 },
 "nbformat": 4,
 "nbformat_minor": 5
}
