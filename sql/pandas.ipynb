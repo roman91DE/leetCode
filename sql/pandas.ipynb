{
 "cells": [
  {
   "cell_type": "code",
   "execution_count": 23,
   "id": "eef9f757",
   "metadata": {},
   "outputs": [],
   "source": [
    "import pandas as pd\n",
    "import numpy as np"
   ]
  },
  {
   "cell_type": "code",
   "execution_count": null,
   "id": "90cd47e8",
   "metadata": {},
   "outputs": [],
   "source": [
    "def second_highest_salary_v1(employee: pd.DataFrame) -> pd.DataFrame:\n",
    "    df = employee.sort_values(by=\"salary\", ascending=False)\n",
    "    df_deduped = df[~df.salary.duplicated(keep=\"first\")]\n",
    "    if len(df_deduped) < 2:\n",
    "        return pd.DataFrame({\"SecondHighestSalary\": [None]})\n",
    "    return (\n",
    "        df_deduped.iloc[1:2]\n",
    "        .rename(columns={\"salary\": \"SecondHighestSalary\"})\n",
    "        .filter(items=[\"SecondHighestSalary\"])\n",
    "    )"
   ]
  },
  {
   "cell_type": "code",
   "execution_count": null,
   "id": "cad829ec",
   "metadata": {},
   "outputs": [],
   "source": [
    "def second_highest_salary_v2(employee: pd.DataFrame) -> pd.DataFrame:\n",
    "    sals = employee.salary.unique()\n",
    "    ssals = np.sort(sals)\n",
    "    if len(ssals) < 2:\n",
    "        return pd.DataFrame({\"SecondHighestSalary\": [None]})\n",
    "    return pd.DataFrame({\"SecondHighestSalary\": [ssals[-2]]})"
   ]
  },
  {
   "cell_type": "code",
   "execution_count": null,
   "id": "ff3ce800",
   "metadata": {},
   "outputs": [],
   "source": [
    "def second_highest_salary_v3(employee: pd.DataFrame) -> pd.DataFrame:\n",
    "    sals = employee.salary\n",
    "    ssals = np.sort(sals)\n",
    "    if len(ssals) < 2:\n",
    "        return pd.DataFrame({\"SecondHighestSalary\": [None]})\n",
    "    return pd.DataFrame({\"SecondHighestSalary\": [ssals[-2]]})"
   ]
  },
  {
   "cell_type": "code",
   "execution_count": null,
   "id": "5efd088f",
   "metadata": {},
   "outputs": [
    {
     "data": {
      "text/html": [
       "<div>\n",
       "<style scoped>\n",
       "    .dataframe tbody tr th:only-of-type {\n",
       "        vertical-align: middle;\n",
       "    }\n",
       "\n",
       "    .dataframe tbody tr th {\n",
       "        vertical-align: top;\n",
       "    }\n",
       "\n",
       "    .dataframe thead th {\n",
       "        text-align: right;\n",
       "    }\n",
       "</style>\n",
       "<table border=\"1\" class=\"dataframe\">\n",
       "  <thead>\n",
       "    <tr style=\"text-align: right;\">\n",
       "      <th></th>\n",
       "      <th>SecondHighestSalary</th>\n",
       "    </tr>\n",
       "  </thead>\n",
       "  <tbody>\n",
       "    <tr>\n",
       "      <th>0</th>\n",
       "      <td>200</td>\n",
       "    </tr>\n",
       "  </tbody>\n",
       "</table>\n",
       "</div>"
      ],
      "text/plain": [
       "   SecondHighestSalary\n",
       "0                  200"
      ]
     },
     "execution_count": 25,
     "metadata": {},
     "output_type": "execute_result"
    }
   ],
   "source": [
    "# test df\n",
    "df = pd.DataFrame(\n",
    "    {\n",
    "        \"id\": [1, 2, 3, 4],\n",
    "        \"salary\": [100, 200, 300, 300],\n",
    "    }\n",
    ")"
   ]
  }
 ],
 "metadata": {
  "kernelspec": {
   "display_name": "ipythonVenv (3.13.7)",
   "language": "python",
   "name": "python3"
  },
  "language_info": {
   "codemirror_mode": {
    "name": "ipython",
    "version": 3
   },
   "file_extension": ".py",
   "mimetype": "text/x-python",
   "name": "python",
   "nbconvert_exporter": "python",
   "pygments_lexer": "ipython3",
   "version": "3.13.7"
  }
 },
 "nbformat": 4,
 "nbformat_minor": 5
}
